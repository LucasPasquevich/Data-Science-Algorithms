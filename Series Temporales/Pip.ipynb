{
 "cells": [
  {
   "cell_type": "code",
   "execution_count": 1,
   "metadata": {},
   "outputs": [],
   "source": [
    "import pandas as pd\n",
    "import numpy as np\n",
    "import matplotlib.pyplot as plt\n",
    "import seaborn as sns\n",
    "import warnings # supress warnings\n",
    "warnings.filterwarnings('ignore')\n",
    "\n",
    "import statsmodels.api as sm\n",
    "import statsmodels.formula.api as smf\n",
    "import statsmodels.tsa.api as smt\n",
    "\n",
    "from scipy import stats\n",
    "from statistics import mode\n",
    "\n"
   ]
  },
  {
   "cell_type": "code",
   "execution_count": 3,
   "metadata": {},
   "outputs": [
    {
     "data": {
      "text/html": [
       "<div>\n",
       "<style scoped>\n",
       "    .dataframe tbody tr th:only-of-type {\n",
       "        vertical-align: middle;\n",
       "    }\n",
       "\n",
       "    .dataframe tbody tr th {\n",
       "        vertical-align: top;\n",
       "    }\n",
       "\n",
       "    .dataframe thead th {\n",
       "        text-align: right;\n",
       "    }\n",
       "</style>\n",
       "<table border=\"1\" class=\"dataframe\">\n",
       "  <thead>\n",
       "    <tr style=\"text-align: right;\">\n",
       "      <th></th>\n",
       "      <th>./</th>\n",
       "    </tr>\n",
       "  </thead>\n",
       "  <tbody>\n",
       "    <tr>\n",
       "      <th>0</th>\n",
       "      <td>2203.60391 10.805 0.042 37070</td>\n",
       "    </tr>\n",
       "    <tr>\n",
       "      <th>1</th>\n",
       "      <td>2204.58841 10.825 0.024 37190</td>\n",
       "    </tr>\n",
       "    <tr>\n",
       "      <th>2</th>\n",
       "      <td>2206.59377 10.836 0.039 37468</td>\n",
       "    </tr>\n",
       "    <tr>\n",
       "      <th>3</th>\n",
       "      <td>2207.57680 10.916 0.045 37633</td>\n",
       "    </tr>\n",
       "    <tr>\n",
       "      <th>4</th>\n",
       "      <td>2211.55696 10.855 0.038 37817</td>\n",
       "    </tr>\n",
       "    <tr>\n",
       "      <th>...</th>\n",
       "      <td>...</td>\n",
       "    </tr>\n",
       "    <tr>\n",
       "      <th>1096514</th>\n",
       "      <td>1871.60719 13.608 0.012 507</td>\n",
       "    </tr>\n",
       "    <tr>\n",
       "      <th>1096515</th>\n",
       "      <td>1873.57974 13.718 0.014 818</td>\n",
       "    </tr>\n",
       "    <tr>\n",
       "      <th>1096516</th>\n",
       "      <td>1875.57412 13.694 0.014 1138</td>\n",
       "    </tr>\n",
       "    <tr>\n",
       "      <th>1096517</th>\n",
       "      <td>1877.57500 13.755 0.010 1460</td>\n",
       "    </tr>\n",
       "    <tr>\n",
       "      <th>1096518</th>\n",
       "      <td>1869.52275 13.725 0.018 193</td>\n",
       "    </tr>\n",
       "  </tbody>\n",
       "</table>\n",
       "<p>1093364 rows × 1 columns</p>\n",
       "</div>"
      ],
      "text/plain": [
       "                                       ./\n",
       "0           2203.60391 10.805 0.042 37070\n",
       "1           2204.58841 10.825 0.024 37190\n",
       "2           2206.59377 10.836 0.039 37468\n",
       "3           2207.57680 10.916 0.045 37633\n",
       "4           2211.55696 10.855 0.038 37817\n",
       "...                                   ...\n",
       "1096514       1871.60719 13.608 0.012 507\n",
       "1096515       1873.57974 13.718 0.014 818\n",
       "1096516      1875.57412 13.694 0.014 1138\n",
       "1096517      1877.57500 13.755 0.010 1460\n",
       "1096518       1869.52275 13.725 0.018 193\n",
       "\n",
       "[1093364 rows x 1 columns]"
      ]
     },
     "execution_count": 3,
     "metadata": {},
     "output_type": "execute_result"
    }
   ],
   "source": [
    "import gzip\n",
    "\n",
    "with gzip.open('var0_lc.tgz') as f:\n",
    "\n",
    "    Var0 = pd.read_csv(f, comment=\"#\",  engine='c', skip_blank_lines=True)\n",
    "\n",
    "Var0 = Var0.dropna()\n",
    "\n",
    "\n",
    "Var0.to_csv(\"Variables_0\")\n",
    "\n",
    "Var0"
   ]
  },
  {
   "cell_type": "code",
   "execution_count": 6,
   "metadata": {},
   "outputs": [
    {
     "data": {
      "text/html": [
       "<div>\n",
       "<style scoped>\n",
       "    .dataframe tbody tr th:only-of-type {\n",
       "        vertical-align: middle;\n",
       "    }\n",
       "\n",
       "    .dataframe tbody tr th {\n",
       "        vertical-align: top;\n",
       "    }\n",
       "\n",
       "    .dataframe thead th {\n",
       "        text-align: right;\n",
       "    }\n",
       "</style>\n",
       "<table border=\"1\" class=\"dataframe\">\n",
       "  <thead>\n",
       "    <tr style=\"text-align: right;\">\n",
       "      <th></th>\n",
       "      <th>000030-3937.5 00:00:30 -39:37:30 2.5545 1870.98 10.79 1.22 ED SW~Phe Al*</th>\n",
       "    </tr>\n",
       "  </thead>\n",
       "  <tbody>\n",
       "    <tr>\n",
       "      <th>0</th>\n",
       "      <td>000053-1717.5 00:00:53 -17:17:30 0.297986 1869...</td>\n",
       "    </tr>\n",
       "    <tr>\n",
       "      <th>1</th>\n",
       "      <td>000108-3330.1 00:01:08 -33:30:06 0.46658 1869....</td>\n",
       "    </tr>\n",
       "    <tr>\n",
       "      <th>2</th>\n",
       "      <td>000116-6037.0 00:01:16 -60:37:00 0.122072 1868...</td>\n",
       "    </tr>\n",
       "    <tr>\n",
       "      <th>3</th>\n",
       "      <td>000118-3551.7 00:01:18 -35:51:42 25.67 1916.3 ...</td>\n",
       "    </tr>\n",
       "    <tr>\n",
       "      <th>4</th>\n",
       "      <td>000119-3505.9 00:01:19 -35:05:54 37.3 1970.0 1...</td>\n",
       "    </tr>\n",
       "    <tr>\n",
       "      <th>...</th>\n",
       "      <td>...</td>\n",
       "    </tr>\n",
       "    <tr>\n",
       "      <th>3120</th>\n",
       "      <td>235905-5634.6 23:59:05 -56:34:36 244 2528.3 7....</td>\n",
       "    </tr>\n",
       "    <tr>\n",
       "      <th>3121</th>\n",
       "      <td>235930-8636.3 23:59:30 -86:36:18 14.96 1915.8 ...</td>\n",
       "    </tr>\n",
       "    <tr>\n",
       "      <th>3122</th>\n",
       "      <td>235935-2952.0 23:59:35 -29:52:00 218 3194.0 10...</td>\n",
       "    </tr>\n",
       "    <tr>\n",
       "      <th>3123</th>\n",
       "      <td>235951-3343.5 23:59:51 -33:43:30 0.167164 1868...</td>\n",
       "    </tr>\n",
       "    <tr>\n",
       "      <th>3124</th>\n",
       "      <td>235952-3452.2 23:59:52 -34:52:12 67.1 2141.0 1...</td>\n",
       "    </tr>\n",
       "  </tbody>\n",
       "</table>\n",
       "<p>3125 rows × 1 columns</p>\n",
       "</div>"
      ],
      "text/plain": [
       "     000030-3937.5 00:00:30 -39:37:30 2.5545 1870.98 10.79 1.22 ED SW~Phe Al*\n",
       "0     000053-1717.5 00:00:53 -17:17:30 0.297986 1869...                      \n",
       "1     000108-3330.1 00:01:08 -33:30:06 0.46658 1869....                      \n",
       "2     000116-6037.0 00:01:16 -60:37:00 0.122072 1868...                      \n",
       "3     000118-3551.7 00:01:18 -35:51:42 25.67 1916.3 ...                      \n",
       "4     000119-3505.9 00:01:19 -35:05:54 37.3 1970.0 1...                      \n",
       "...                                                 ...                      \n",
       "3120  235905-5634.6 23:59:05 -56:34:36 244 2528.3 7....                      \n",
       "3121  235930-8636.3 23:59:30 -86:36:18 14.96 1915.8 ...                      \n",
       "3122  235935-2952.0 23:59:35 -29:52:00 218 3194.0 10...                      \n",
       "3123  235951-3343.5 23:59:51 -33:43:30 0.167164 1868...                      \n",
       "3124  235952-3452.2 23:59:52 -34:52:12 67.1 2141.0 1...                      \n",
       "\n",
       "[3125 rows x 1 columns]"
      ]
     },
     "execution_count": 6,
     "metadata": {},
     "output_type": "execute_result"
    }
   ],
   "source": [
    "\n",
    "\n",
    "import gzip\n",
    "\n",
    "with gzip.open('var0.gz') as f:\n",
    "\n",
    "    Var0_context = pd.read_csv(f, comment=\"#\")\n",
    "\n",
    "Var0_context"
   ]
  },
  {
   "cell_type": "code",
   "execution_count": 2,
   "metadata": {},
   "outputs": [
    {
     "name": "stdout",
     "output_type": "stream",
     "text": [
      "Requirement already satisfied: astroML in c:\\users\\user\\anaconda3\\lib\\site-packages (1.0.2.post1)\n",
      "Requirement already satisfied: matplotlib>=3.0 in c:\\users\\user\\anaconda3\\lib\\site-packages (from astroML) (3.5.2)\n",
      "Requirement already satisfied: scipy>=0.18 in c:\\users\\user\\anaconda3\\lib\\site-packages (from astroML) (1.9.1)\n",
      "Requirement already satisfied: scikit-learn>=0.18 in c:\\users\\user\\anaconda3\\lib\\site-packages (from astroML) (1.0.2)\n",
      "Requirement already satisfied: numpy>=1.13 in c:\\users\\user\\anaconda3\\lib\\site-packages (from astroML) (1.21.5)\n",
      "Requirement already satisfied: astropy>=3.0 in c:\\users\\user\\anaconda3\\lib\\site-packages (from astroML) (5.1)\n",
      "Requirement already satisfied: pyerfa>=2.0 in c:\\users\\user\\anaconda3\\lib\\site-packages (from astropy>=3.0->astroML) (2.0.0)\n",
      "Requirement already satisfied: packaging>=19.0 in c:\\users\\user\\anaconda3\\lib\\site-packages (from astropy>=3.0->astroML) (21.3)\n",
      "Requirement already satisfied: PyYAML>=3.13 in c:\\users\\user\\anaconda3\\lib\\site-packages (from astropy>=3.0->astroML) (6.0)\n",
      "Requirement already satisfied: pyparsing>=2.2.1 in c:\\users\\user\\anaconda3\\lib\\site-packages (from matplotlib>=3.0->astroML) (3.0.9)\n",
      "Requirement already satisfied: fonttools>=4.22.0 in c:\\users\\user\\anaconda3\\lib\\site-packages (from matplotlib>=3.0->astroML) (4.25.0)\n",
      "Requirement already satisfied: python-dateutil>=2.7 in c:\\users\\user\\anaconda3\\lib\\site-packages (from matplotlib>=3.0->astroML) (2.8.2)\n",
      "Requirement already satisfied: kiwisolver>=1.0.1 in c:\\users\\user\\anaconda3\\lib\\site-packages (from matplotlib>=3.0->astroML) (1.4.2)\n",
      "Requirement already satisfied: pillow>=6.2.0 in c:\\users\\user\\anaconda3\\lib\\site-packages (from matplotlib>=3.0->astroML) (9.2.0)\n",
      "Requirement already satisfied: cycler>=0.10 in c:\\users\\user\\anaconda3\\lib\\site-packages (from matplotlib>=3.0->astroML) (0.11.0)\n",
      "Requirement already satisfied: threadpoolctl>=2.0.0 in c:\\users\\user\\anaconda3\\lib\\site-packages (from scikit-learn>=0.18->astroML) (2.2.0)\n",
      "Requirement already satisfied: joblib>=0.11 in c:\\users\\user\\anaconda3\\lib\\site-packages (from scikit-learn>=0.18->astroML) (1.2.0)\n",
      "Requirement already satisfied: six>=1.5 in c:\\users\\user\\anaconda3\\lib\\site-packages (from python-dateutil>=2.7->matplotlib>=3.0->astroML) (1.16.0)\n",
      "Note: you may need to restart the kernel to use updated packages.\n"
     ]
    }
   ],
   "source": [
    "pip install astroML"
   ]
  },
  {
   "cell_type": "code",
   "execution_count": 3,
   "metadata": {},
   "outputs": [],
   "source": [
    "from astroML.datasets import fetch_rrlyrae_templates\n",
    "\n",
    "from scipy.signal import fftconvolve\n",
    "\n",
    "from scipy import fftpack\n",
    "from matplotlib import mlab\n",
    "\n",
    "from astroML.datasets import fetch_LIGO_large\n",
    "\n",
    "from scipy.fftpack import fft\n",
    "from scipy.stats import norm\n",
    "\n",
    "from astroML.fourier import PSD_continuous"
   ]
  },
  {
   "cell_type": "code",
   "execution_count": 4,
   "metadata": {},
   "outputs": [],
   "source": [
    "templates = fetch_rrlyrae_templates()\n",
    "x, y = templates['115r'].T"
   ]
  },
  {
   "cell_type": "code",
   "execution_count": 7,
   "metadata": {},
   "outputs": [
    {
     "data": {
      "image/png": "[encoded data removed]",
      "text/plain": [
       "<Figure size 500x500 with 3 Axes>"
      ]
     },
     "metadata": {},
     "output_type": "display_data"
    }
   ],
   "source": [
    "fig = plt.figure(figsize=(5, 5))\n",
    "fig.subplots_adjust(hspace=0)\n",
    "\n",
    "kvals = [1, 3, 8]\n",
    "subplots = [311, 312, 313]\n",
    "\n",
    "for (k, subplot) in zip(kvals, subplots):\n",
    "    ax = fig.add_subplot(subplot)\n",
    "\n",
    "    # Use FFT to fit a truncated Fourier series\n",
    "    y_fft = np.fft.fft(y)\n",
    "    y_fft[k + 1:-k] = 0\n",
    "    y_fit = np.fft.ifft(y_fft).real\n",
    "\n",
    "    # plot the true value and the k-term reconstruction\n",
    "    ax.plot(np.concatenate([x, 1 + x]),\n",
    "            np.concatenate([y, y]), '--k', lw=2)\n",
    "    ax.plot(np.concatenate([x, 1 + x]),\n",
    "            np.concatenate([y_fit, y_fit]), color='gray')\n",
    "\n",
    "    label = \"%i mode\" % k\n",
    "    if k > 1:\n",
    "        label += 's'\n",
    "\n",
    "    ax.text(0.02, 0.1, label, ha='left', va='bottom',\n",
    "            transform=ax.transAxes)\n",
    "\n",
    "    if subplot == subplots[-1]:\n",
    "        ax.set_xlabel('phase')\n",
    "    else:\n",
    "        ax.xaxis.set_major_formatter(plt.NullFormatter())\n",
    "\n",
    "    if subplot == subplots[1]:\n",
    "        ax.set_ylabel('amplitude')\n",
    "    ax.yaxis.set_major_formatter(plt.NullFormatter())\n",
    "\n",
    "    ax.set_xlim(0, 2)\n",
    "    ax.set_ylim(1.1, -0.1)\n",
    "\n",
    "plt.show()"
   ]
  },
  {
   "cell_type": "code",
   "execution_count": null,
   "metadata": {},
   "outputs": [],
   "source": []
  },
  {
   "cell_type": "code",
   "execution_count": null,
   "metadata": {},
   "outputs": [],
   "source": []
  },
  {
   "cell_type": "code",
   "execution_count": null,
   "metadata": {},
   "outputs": [],
   "source": []
  },
  {
   "cell_type": "code",
   "execution_count": null,
   "metadata": {},
   "outputs": [],
   "source": []
  },
  {
   "cell_type": "code",
   "execution_count": null,
   "metadata": {},
   "outputs": [],
   "source": []
  },
  {
   "attachments": {},
   "cell_type": "markdown",
   "metadata": {},
   "source": [
    "## Componentes de una serie de tiempo\n",
    "\n",
    "----\n",
    "Podemos encontrar en una serie de tiempo cuatro componentes:\n",
    "\n",
    "Tendencia (Trend): es el componente permanente, el efecto persistente en el tiempo.\n",
    "\n",
    "Estacionalidad (Seasonality): es un patrón estacional que se repite con regularidad.\n",
    "\n",
    "Componente aleatoria (Residual - Remainder): son shocks que no presentan un efecto duradero. Se los define también como ruido o movimientos random.\n",
    "\n",
    "Ciclos (Cycle): otro tipo de dinámica no capturada por la tendencia o estacionalidad."
   ]
  },
  {
   "cell_type": "code",
   "execution_count": null,
   "metadata": {},
   "outputs": [],
   "source": []
  }
 ],
 "metadata": {
  "kernelspec": {
   "display_name": "base",
   "language": "python",
   "name": "python3"
  },
  "language_info": {
   "codemirror_mode": {
    "name": "ipython",
    "version": 3
   },
   "file_extension": ".py",
   "mimetype": "text/x-python",
   "name": "python",
   "nbconvert_exporter": "python",
   "pygments_lexer": "ipython3",
   "version": "3.9.13"
  },
  "vscode": {
   "interpreter": {
    "hash": "f08154012ddadd8e950e6e9e035c7a7b32c136e7647e9b7c77e02eb723a8bedb"
   }
  }
 },
 "nbformat": 4,
 "nbformat_minor": 4
}
